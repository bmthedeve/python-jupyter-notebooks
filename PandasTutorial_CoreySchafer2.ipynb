{
 "cells": [
  {
   "cell_type": "code",
   "execution_count": null,
   "id": "421a5269-692c-49ac-b1ce-68290c88ddcb",
   "metadata": {},
   "outputs": [],
   "source": [
    "pip install pandas"
   ]
  },
  {
   "cell_type": "code",
   "execution_count": null,
   "id": "ed1eaa38-0b15-434c-9e04-aecc934c235f",
   "metadata": {},
   "outputs": [],
   "source": [
    "import pandas as pd"
   ]
  },
  {
   "cell_type": "code",
   "execution_count": null,
   "id": "8168faed-9b6e-45a9-939f-52bce38b2703",
   "metadata": {},
   "outputs": [],
   "source": [
    "df = pd.read_csv('survey_results_public.csv')"
   ]
  },
  {
   "cell_type": "code",
   "execution_count": null,
   "id": "c56f162f-6bae-4e77-910e-446e49b6a133",
   "metadata": {
    "scrolled": true
   },
   "outputs": [],
   "source": [
    "df"
   ]
  },
  {
   "cell_type": "code",
   "execution_count": null,
   "id": "49bbf415-9abf-443f-8c49-d2629555363e",
   "metadata": {},
   "outputs": [],
   "source": [
    "df.shape"
   ]
  },
  {
   "cell_type": "code",
   "execution_count": null,
   "id": "dfcf740e-0e22-4778-827f-58d746105026",
   "metadata": {
    "scrolled": true
   },
   "outputs": [],
   "source": [
    "df.info()"
   ]
  },
  {
   "cell_type": "code",
   "execution_count": null,
   "id": "6f7018e6-1186-4b9c-98b2-f0ec9d181506",
   "metadata": {},
   "outputs": [],
   "source": [
    "#display 85 columns\n",
    "pd.set_option('display.max_columns',85)"
   ]
  },
  {
   "cell_type": "code",
   "execution_count": null,
   "id": "3a15e224-6a31-4eef-9147-2fdc89808ed8",
   "metadata": {
    "scrolled": true
   },
   "outputs": [],
   "source": [
    "df"
   ]
  },
  {
   "cell_type": "code",
   "execution_count": null,
   "id": "ba9fe875-f5bf-4786-a345-cbba478ccfe6",
   "metadata": {},
   "outputs": [],
   "source": [
    "schema_df = pd.read_csv('survey_results_schema.csv')"
   ]
  },
  {
   "cell_type": "code",
   "execution_count": null,
   "id": "7b5cbcea-12a5-433a-bb79-620fd9440911",
   "metadata": {},
   "outputs": [],
   "source": [
    "schema_df"
   ]
  },
  {
   "cell_type": "code",
   "execution_count": null,
   "id": "e1da03f5-7a2f-480d-bf24-87da64bafdc2",
   "metadata": {},
   "outputs": [],
   "source": [
    "pd.set_option('display.max_rows',78)"
   ]
  },
  {
   "cell_type": "code",
   "execution_count": null,
   "id": "13c1eb3d-dccb-4f50-b03a-1baa821040f1",
   "metadata": {},
   "outputs": [],
   "source": [
    "schema_df"
   ]
  }
 ],
 "metadata": {
  "kernelspec": {
   "display_name": "Python 3 (ipykernel)",
   "language": "python",
   "name": "python3"
  },
  "language_info": {
   "codemirror_mode": {
    "name": "ipython",
    "version": 3
   },
   "file_extension": ".py",
   "mimetype": "text/x-python",
   "name": "python",
   "nbconvert_exporter": "python",
   "pygments_lexer": "ipython3",
   "version": "3.10.12"
  }
 },
 "nbformat": 4,
 "nbformat_minor": 5
}
