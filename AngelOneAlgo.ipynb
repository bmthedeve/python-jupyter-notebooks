{
 "cells": [
  {
   "cell_type": "code",
   "execution_count": null,
   "id": "86cf12b3-119f-42a1-8e2d-ec5cd55a661e",
   "metadata": {},
   "outputs": [],
   "source": [
    "!pip install smartapi-python\n",
    "!pip install websocket-client\n",
    "!pip install pyotp\n",
    "!pip install pytz\n",
    "!pip install logzero"
   ]
  },
  {
   "cell_type": "code",
   "execution_count": 6,
   "id": "494651a1-3b0b-4e14-80f3-8bba2f7897d1",
   "metadata": {},
   "outputs": [
    {
     "ename": "ModuleNotFoundError",
     "evalue": "No module named 'SmartApi'",
     "output_type": "error",
     "traceback": [
      "\u001b[0;31m---------------------------------------------------------------------------\u001b[0m",
      "\u001b[0;31mModuleNotFoundError\u001b[0m                       Traceback (most recent call last)",
      "Cell \u001b[0;32mIn[6], line 2\u001b[0m\n\u001b[1;32m      1\u001b[0m \u001b[38;5;66;03m# package import statement\u001b[39;00m\n\u001b[0;32m----> 2\u001b[0m \u001b[38;5;28;01mfrom\u001b[39;00m \u001b[38;5;21;01msmartapi\u001b[39;00m\u001b[38;5;21;01m.\u001b[39;00m\u001b[38;5;21;01msmartConnect\u001b[39;00m \u001b[38;5;28;01mimport\u001b[39;00m SmartConnect\n\u001b[1;32m      4\u001b[0m \u001b[38;5;28;01mimport\u001b[39;00m \u001b[38;5;21;01mpyotp\u001b[39;00m\u001b[38;5;241m,\u001b[39m\u001b[38;5;21;01mtime\u001b[39;00m\u001b[38;5;241m,\u001b[39m \u001b[38;5;21;01mpytz\u001b[39;00m\n\u001b[1;32m      5\u001b[0m \u001b[38;5;28;01mfrom\u001b[39;00m \u001b[38;5;21;01mdatetime\u001b[39;00m \u001b[38;5;28;01mimport\u001b[39;00m datetime\n",
      "File \u001b[0;32m~/.local/lib/python3.10/site-packages/smartapi/__init__.py:3\u001b[0m\n\u001b[1;32m      1\u001b[0m \u001b[38;5;28;01mfrom\u001b[39;00m \u001b[38;5;21;01m__future__\u001b[39;00m \u001b[38;5;28;01mimport\u001b[39;00m unicode_literals,absolute_import\n\u001b[0;32m----> 3\u001b[0m \u001b[38;5;28;01mfrom\u001b[39;00m \u001b[38;5;21;01mSmartApi\u001b[39;00m\u001b[38;5;21;01m.\u001b[39;00m\u001b[38;5;21;01msmartConnect\u001b[39;00m \u001b[38;5;28;01mimport\u001b[39;00m SmartConnect\n\u001b[1;32m      4\u001b[0m \u001b[38;5;66;03m# from SmartApi.webSocket import WebSocket\u001b[39;00m\n\u001b[1;32m      5\u001b[0m \u001b[38;5;28;01mfrom\u001b[39;00m \u001b[38;5;21;01mSmartApi\u001b[39;00m\u001b[38;5;21;01m.\u001b[39;00m\u001b[38;5;21;01msmartApiWebsocket\u001b[39;00m \u001b[38;5;28;01mimport\u001b[39;00m SmartWebSocket\n",
      "\u001b[0;31mModuleNotFoundError\u001b[0m: No module named 'SmartApi'"
     ]
    }
   ],
   "source": [
    "# package import statement\n",
    "from SmartApi import SmartConnect #or from smartapi.smartConnect import SmartConnect\n",
    "\n",
    "import pyotp,time, pytz\n",
    "from datetime import datetime\n",
    "import threading\n",
    "from config import *\n",
    "\n",
    "#create object of call\n",
    "obj=SmartConnect(api_key=apikey)\n",
    "\n",
    "#login api call\n",
    "\n",
    "data = obj.generateSession(username,pwd,pyotp.TOTP(token).now())\n",
    "#cls\n",
    "# print (data)\n",
    "refreshToken= data['data']['refreshToken']\n",
    "AUTH_TOKEN = data['data']['jwtToken']\n",
    "\n",
    "#fetch the feedtoken\n",
    "FEED_TOKEN =obj.getfeedToken()\n",
    "#print (\"Feed Token: \"+FEED_TOKEN)\n",
    "\n",
    "#fetch User Profile\n",
    "res= obj.getProfile(refreshToken) \n",
    "print(res['data']['exchanges'])"
   ]
  },
  {
   "cell_type": "code",
   "execution_count": null,
   "id": "bbc0496a-5b49-4184-ae1d-b579ce34e398",
   "metadata": {},
   "outputs": [],
   "source": [
    "!pip show smartapi-python"
   ]
  },
  {
   "cell_type": "code",
   "execution_count": 9,
   "id": "cad595d1-6e05-4b01-ae80-d85728110942",
   "metadata": {},
   "outputs": [
    {
     "ename": "ModuleNotFoundError",
     "evalue": "No module named 'SmartApi'",
     "output_type": "error",
     "traceback": [
      "\u001b[0;31m---------------------------------------------------------------------------\u001b[0m",
      "\u001b[0;31mModuleNotFoundError\u001b[0m                       Traceback (most recent call last)",
      "Cell \u001b[0;32mIn[9], line 1\u001b[0m\n\u001b[0;32m----> 1\u001b[0m \u001b[38;5;28;01mfrom\u001b[39;00m \u001b[38;5;21;01msmartapi\u001b[39;00m\u001b[38;5;21;01m.\u001b[39;00m\u001b[38;5;21;01msmartConnect\u001b[39;00m \u001b[38;5;28;01mimport\u001b[39;00m SmartConnect\n",
      "File \u001b[0;32m~/.local/lib/python3.10/site-packages/smartapi/__init__.py:3\u001b[0m\n\u001b[1;32m      1\u001b[0m \u001b[38;5;28;01mfrom\u001b[39;00m \u001b[38;5;21;01m__future__\u001b[39;00m \u001b[38;5;28;01mimport\u001b[39;00m unicode_literals,absolute_import\n\u001b[0;32m----> 3\u001b[0m \u001b[38;5;28;01mfrom\u001b[39;00m \u001b[38;5;21;01mSmartApi\u001b[39;00m\u001b[38;5;21;01m.\u001b[39;00m\u001b[38;5;21;01msmartConnect\u001b[39;00m \u001b[38;5;28;01mimport\u001b[39;00m SmartConnect\n\u001b[1;32m      4\u001b[0m \u001b[38;5;66;03m# from SmartApi.webSocket import WebSocket\u001b[39;00m\n\u001b[1;32m      5\u001b[0m \u001b[38;5;28;01mfrom\u001b[39;00m \u001b[38;5;21;01mSmartApi\u001b[39;00m\u001b[38;5;21;01m.\u001b[39;00m\u001b[38;5;21;01msmartApiWebsocket\u001b[39;00m \u001b[38;5;28;01mimport\u001b[39;00m SmartWebSocket\n",
      "\u001b[0;31mModuleNotFoundError\u001b[0m: No module named 'SmartApi'"
     ]
    }
   ],
   "source": [
    "from smartapi.smartConnect import SmartConnect"
   ]
  },
  {
   "cell_type": "code",
   "execution_count": 10,
   "id": "b3441a3e-efe2-427a-b72e-e6345f54d370",
   "metadata": {},
   "outputs": [
    {
     "ename": "ModuleNotFoundError",
     "evalue": "No module named 'SmartApi'",
     "output_type": "error",
     "traceback": [
      "\u001b[0;31m---------------------------------------------------------------------------\u001b[0m",
      "\u001b[0;31mModuleNotFoundError\u001b[0m                       Traceback (most recent call last)",
      "Cell \u001b[0;32mIn[10], line 1\u001b[0m\n\u001b[0;32m----> 1\u001b[0m \u001b[38;5;28;01mfrom\u001b[39;00m \u001b[38;5;21;01msmartapi\u001b[39;00m\u001b[38;5;21;01m.\u001b[39;00m\u001b[38;5;21;01msmartConnect\u001b[39;00m \u001b[38;5;28;01mimport\u001b[39;00m SmartConnect\n",
      "File \u001b[0;32m~/.local/lib/python3.10/site-packages/smartapi/__init__.py:3\u001b[0m\n\u001b[1;32m      1\u001b[0m \u001b[38;5;28;01mfrom\u001b[39;00m \u001b[38;5;21;01m__future__\u001b[39;00m \u001b[38;5;28;01mimport\u001b[39;00m unicode_literals,absolute_import\n\u001b[0;32m----> 3\u001b[0m \u001b[38;5;28;01mfrom\u001b[39;00m \u001b[38;5;21;01mSmartApi\u001b[39;00m\u001b[38;5;21;01m.\u001b[39;00m\u001b[38;5;21;01msmartConnect\u001b[39;00m \u001b[38;5;28;01mimport\u001b[39;00m SmartConnect\n\u001b[1;32m      4\u001b[0m \u001b[38;5;66;03m# from SmartApi.webSocket import WebSocket\u001b[39;00m\n\u001b[1;32m      5\u001b[0m \u001b[38;5;28;01mfrom\u001b[39;00m \u001b[38;5;21;01mSmartApi\u001b[39;00m\u001b[38;5;21;01m.\u001b[39;00m\u001b[38;5;21;01msmartApiWebsocket\u001b[39;00m \u001b[38;5;28;01mimport\u001b[39;00m SmartWebSocket\n",
      "\u001b[0;31mModuleNotFoundError\u001b[0m: No module named 'SmartApi'"
     ]
    }
   ],
   "source": [
    "from smartapi.smartConnect import SmartConnect"
   ]
  }
 ],
 "metadata": {
  "kernelspec": {
   "display_name": "Python 3 (ipykernel)",
   "language": "python",
   "name": "python3"
  },
  "language_info": {
   "codemirror_mode": {
    "name": "ipython",
    "version": 3
   },
   "file_extension": ".py",
   "mimetype": "text/x-python",
   "name": "python",
   "nbconvert_exporter": "python",
   "pygments_lexer": "ipython3",
   "version": "3.10.12"
  }
 },
 "nbformat": 4,
 "nbformat_minor": 5
}
